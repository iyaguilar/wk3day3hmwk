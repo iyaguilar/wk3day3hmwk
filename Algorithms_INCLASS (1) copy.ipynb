{
 "cells": [
  {
   "cell_type": "markdown",
   "metadata": {},
   "source": [
    "# Algorithms & Binary Search"
   ]
  },
  {
   "cell_type": "markdown",
   "metadata": {},
   "source": [
    "## Tasks Today:\n",
    " \n",
    "1) <b>In-Place Algorithms</b> <br>\n",
    " &nbsp;&nbsp;&nbsp;&nbsp; a) Syntax <br>\n",
    " &nbsp;&nbsp;&nbsp;&nbsp; a) Out of Place Algorithm <br>\n",
    " &nbsp;&nbsp;&nbsp;&nbsp; b) In-Class Exercise #1 <br>\n",
    "2) <b>Two Pointers</b> <br>\n",
    "3) <b>Linked Lists</b> <br>\n",
    "4) <b>Merge Sort</b> <br>\n",
    " &nbsp;&nbsp;&nbsp;&nbsp; a) Video on Algorithms <br>\n",
    " &nbsp;&nbsp;&nbsp;&nbsp; b) How it Works <br>\n",
    "5) <b>Exercises</b> <br>\n",
    " &nbsp;&nbsp;&nbsp;&nbsp; a) Exercise #1 - Reverse a List in Place Using an In-Place Algorithm <br>\n",
    " &nbsp;&nbsp;&nbsp;&nbsp; b) Exercise #2 - Find Distinct Words <br>\n",
    " &nbsp;&nbsp;&nbsp;&nbsp; c) Exercise #3 - Write a program to implement a Linear Search Algorithm. <br>"
   ]
  },
  {
   "cell_type": "markdown",
   "metadata": {},
   "source": [
    "## In-Place Algorithms"
   ]
  },
  {
   "cell_type": "markdown",
   "metadata": {},
   "source": [
    "#### Syntax"
   ]
  },
  {
   "cell_type": "code",
   "execution_count": 5,
   "metadata": {},
   "outputs": [
    {
     "name": "stdout",
     "output_type": "stream",
     "text": [
      "4354940608\n",
      "4354940608\n",
      "4354940608\n"
     ]
    }
   ],
   "source": [
    "\n",
    "# modify the data in side its place in memory\n",
    "# typically you don't need to return, because you've actually modified your input directly \n",
    "\n",
    "\n",
    "def double_nums(alist):\n",
    "    for index in range(len(alist)):\n",
    "        alist[index] = alist[index] * 2\n",
    "\n",
    "\n",
    "myList= [1,2,3,4,5]\n",
    "print(id(myList))\n",
    "\n",
    "\n",
    "double_nums(myList)\n",
    "\n",
    "print(id(myList))\n",
    "\n",
    "#.sort()\n",
    "\n",
    "myList.sort()\n",
    "print(id(myList))\n",
    "\n",
    "            \n",
    "            \n",
    "\n",
    "\n"
   ]
  },
  {
   "cell_type": "markdown",
   "metadata": {},
   "source": [
    "#### Out of Place Algorithm"
   ]
  },
  {
   "cell_type": "code",
   "execution_count": 6,
   "metadata": {},
   "outputs": [
    {
     "name": "stdout",
     "output_type": "stream",
     "text": [
      "4355261568\n",
      "4354939776\n",
      "[1, 2, 3, 5]\n"
     ]
    }
   ],
   "source": [
    "#take the data make changes and then store the changes in a new position in memory\n",
    "\n",
    "\n",
    "def out_dn(alist):\n",
    "    output = []\n",
    "    for num in alist:\n",
    "        output.append(num*2)\n",
    "        return output\n",
    "\n",
    "\n",
    "myList = [1,2,3,4,5]\n",
    "\n",
    "print(id(myList))\n",
    "\n",
    "myList = out_dn(myList)\n",
    "\n",
    "print(id(myList))\n",
    "\n",
    "#sorted()\n",
    "\n",
    "alist = [2,1,5,3]\n",
    "\n",
    "new = sorted(alist)\n",
    "\n",
    "print(new)\n",
    "\n",
    "\n",
    "\n"
   ]
  },
  {
   "cell_type": "markdown",
   "metadata": {},
   "source": [
    "#### In-Class Exercise #1 <br>\n",
    "<p>Write a function that takes in four arguments (list, index1, index2, index3), and swaps those three positions in the list passed in.</p>"
   ]
  },
  {
   "cell_type": "code",
   "execution_count": 7,
   "metadata": {},
   "outputs": [
    {
     "data": {
      "text/plain": [
       "[4, 3, 10, 8, 4, 2, 6]"
      ]
     },
     "execution_count": 7,
     "metadata": {},
     "output_type": "execute_result"
    }
   ],
   "source": [
    "l_1 = [10, 4, 3, 8, 4, 2, 6]\n",
    "\n",
    "x, y, z = 1,2,3\n",
    "\n",
    "def in_swap(alist, i1, i2, i3):\n",
    "\n",
    "    alist[i1], alist [i2], alist [i3] = alist [i2], alist [i3], alist [i1] \n",
    "\n",
    "\n",
    "in_swap(l_1, 0, 1, 2)\n",
    "\n",
    "l_1\n",
    "\n",
    "\n",
    "\n",
    "\n",
    "\n",
    "\n"
   ]
  },
  {
   "cell_type": "markdown",
   "metadata": {},
   "source": [
    "## Two Pointers"
   ]
  },
  {
   "cell_type": "markdown",
   "metadata": {},
   "source": [
    "#### Syntax"
   ]
  },
  {
   "cell_type": "code",
   "execution_count": 9,
   "metadata": {},
   "outputs": [
    {
     "name": "stdout",
     "output_type": "stream",
     "text": [
      "None\n",
      "[6, 2, 4, 8, 3, 4, 10]\n"
     ]
    }
   ],
   "source": [
    "\n",
    "#Two-pointers algorithms that keep track of two indeces at the same time\n",
    "#many forms, can be used in searching, swapping, and sliding/growing windows\n",
    "\n",
    "l_1 = [10, 4, 3, 8, 4, 2, 6]\n",
    "\n",
    "def swapper(alist):\n",
    "\n",
    "    left = 0\n",
    "    right = len(alist) -1 \n",
    "\n",
    "\n",
    "    while left <= right:\n",
    "\n",
    "        alist[left], alist[right] = alist[right], alist[left]\n",
    "        left += 1 \n",
    "        right -= 1\n",
    "\n",
    "print(swapper(l_1))\n",
    "\n",
    "print(l_1)\n",
    "\n",
    "\n",
    "\n",
    "\n",
    "\n"
   ]
  },
  {
   "cell_type": "markdown",
   "metadata": {},
   "source": [
    "#### Video of Algorithms <br>\n",
    "<p>Watch the video about algorithms.</p>\n",
    "\n",
    "https://www.youtube.com/watch?v=Q9HjeFD62Uk\n",
    "\n",
    "https://www.youtube.com/watch?v=kPRA0W1kECg\n",
    "\n",
    "https://www.youtube.com/watch?v=ZZuD6iUe3Pc"
   ]
  },
  {
   "cell_type": "markdown",
   "metadata": {},
   "source": [
    "# Sorting Algorithms"
   ]
  },
  {
   "cell_type": "markdown",
   "metadata": {},
   "source": [
    "#### Bubble Sort\n",
    "\n",
    "Worst Case: O(n^2) Time - O(1) Space"
   ]
  },
  {
   "cell_type": "code",
   "execution_count": 16,
   "metadata": {},
   "outputs": [
    {
     "name": "stdout",
     "output_type": "stream",
     "text": [
      "1\n",
      "[9, 5, 3, 7, 2, 1, 8]\n",
      "[5, 9, 3, 7, 2, 1, 8]\n",
      "[5, 3, 9, 7, 2, 1, 8]\n",
      "[5, 3, 7, 9, 2, 1, 8]\n",
      "[5, 3, 7, 2, 9, 1, 8]\n",
      "[5, 3, 7, 2, 1, 9, 8]\n",
      "2\n",
      "[5, 3, 7, 2, 1, 8, 9]\n",
      "[3, 5, 7, 2, 1, 8, 9]\n",
      "[3, 5, 7, 2, 1, 8, 9]\n",
      "[3, 5, 2, 7, 1, 8, 9]\n",
      "[3, 5, 2, 1, 7, 8, 9]\n",
      "[3, 5, 2, 1, 7, 8, 9]\n",
      "3\n",
      "[3, 5, 2, 1, 7, 8, 9]\n",
      "[3, 5, 2, 1, 7, 8, 9]\n",
      "[3, 2, 5, 1, 7, 8, 9]\n",
      "[3, 2, 1, 5, 7, 8, 9]\n",
      "[3, 2, 1, 5, 7, 8, 9]\n",
      "[3, 2, 1, 5, 7, 8, 9]\n",
      "4\n",
      "[3, 2, 1, 5, 7, 8, 9]\n",
      "[2, 3, 1, 5, 7, 8, 9]\n",
      "[2, 1, 3, 5, 7, 8, 9]\n",
      "[2, 1, 3, 5, 7, 8, 9]\n",
      "[2, 1, 3, 5, 7, 8, 9]\n",
      "[2, 1, 3, 5, 7, 8, 9]\n",
      "5\n",
      "[2, 1, 3, 5, 7, 8, 9]\n",
      "[1, 2, 3, 5, 7, 8, 9]\n",
      "[1, 2, 3, 5, 7, 8, 9]\n",
      "[1, 2, 3, 5, 7, 8, 9]\n",
      "[1, 2, 3, 5, 7, 8, 9]\n",
      "[1, 2, 3, 5, 7, 8, 9]\n",
      "6\n",
      "[1, 2, 3, 5, 7, 8, 9]\n",
      "[1, 2, 3, 5, 7, 8, 9]\n",
      "[1, 2, 3, 5, 7, 8, 9]\n",
      "[1, 2, 3, 5, 7, 8, 9]\n",
      "[1, 2, 3, 5, 7, 8, 9]\n",
      "[1, 2, 3, 5, 7, 8, 9]\n",
      "[1, 2, 3, 5, 7, 8, 9]\n"
     ]
    }
   ],
   "source": [
    "\n",
    "alist = [9,5,3,7,2,1,8]\n",
    "\n",
    "def swap(alist, x, y):\n",
    "\n",
    "    alist[x], alist[y] = alist[y], alist[x]\n",
    "\n",
    "def bubble (alist):\n",
    "\n",
    "    sorted = False\n",
    "    p = 0 \n",
    "    while not sorted:\n",
    "        p+=1\n",
    "        print(p)\n",
    "        sorted = True\n",
    "\n",
    "        for index in range (len(alist)-1):\n",
    "            print(alist)\n",
    "            if alist [index] > alist [index + 1]:\n",
    "                swap(alist, index, index+1)\n",
    "                sorted = False\n",
    "\n",
    "bubble(alist)\n",
    "print(alist)\n",
    "\n",
    "\n",
    "\n"
   ]
  },
  {
   "cell_type": "markdown",
   "metadata": {},
   "source": [
    "##### Insertion Sort\n",
    "\n",
    "Worst Case: O(n^2) time - O(1)space"
   ]
  },
  {
   "cell_type": "code",
   "execution_count": 48,
   "metadata": {},
   "outputs": [
    {
     "name": "stdout",
     "output_type": "stream",
     "text": [
      "[9, 5, 3, 7, 2, 1, 8]\n"
     ]
    }
   ],
   "source": [
    "alist = [9, 5, 3, 7, 2, 1, 8]\n",
    "\n",
    "def swap(alist, x, y):\n",
    "    alist[x], alist[y] = alist[y], alist[x]\n",
    "\n",
    "\n",
    "def insertion(alist):\n",
    "    for i in range(1, len(alist)):\n",
    "            p = i\n",
    "            print(alist[:i])\n",
    "            print(alist[i])\n",
    "            while i > 0 and alist[i] < alist[i-1]:\n",
    "                print(alist[:p+1])\n",
    "                swap(alist, i, i, -1)\n",
    "                i -= 1 \n",
    "\n",
    "\n",
    "    insertion(alist)\n",
    "print(alist)\n",
    "\n",
    "\n",
    "\n",
    "\n",
    "\n",
    "\n"
   ]
  },
  {
   "cell_type": "markdown",
   "metadata": {},
   "source": [
    "## Merge Sort"
   ]
  },
  {
   "cell_type": "markdown",
   "metadata": {},
   "source": [
    "#### How it Works"
   ]
  },
  {
   "cell_type": "code",
   "execution_count": 37,
   "metadata": {},
   "outputs": [
    {
     "name": "stdout",
     "output_type": "stream",
     "text": [
      "[9, 5, 3, 7, 2, 1, 8]\n"
     ]
    }
   ],
   "source": [
    "#using recursion continously break down your list until base case of single item list\n",
    "#then begin mergin until one list is empty\n",
    "#fill in form non empty list\n",
    "blist = [9,5,3,7,2,1,8]\n",
    "\n",
    "def mergeSort(alist):\n",
    "\n",
    "    if len(alist) > 1:\n",
    "\n",
    "        middle = len(alist) // 2 \n",
    "        left_half = alist[:middle]\n",
    "        right_half = alist [middle:]\n",
    "\n",
    "        mergeSort(left_half)\n",
    "        mergeSort(right_half)\n",
    "\n",
    "        l = 0 #pointer for left list\n",
    "        r = 0 #pointer for right list\n",
    "        m = 0 #pointer for main list\n",
    "\n",
    "        #compare elements in left and right mergin them until one list is empty\n",
    "\n",
    "        while l < len(left_half) and r < (right_half):\n",
    "\n",
    "            if left_half[l] < right_half[r]:\n",
    "                alist[m] = left_half[l]\n",
    "                l += 1\n",
    "\n",
    "        else:\n",
    "\n",
    "            alist[m] = right_half[r]\n",
    "            r += 1\n",
    "\n",
    "        m += 1\n",
    "#once a list has been emptied, fill in from the non-empty list\n",
    "            \n",
    "        while l < len(left_half):\n",
    "            alist[m] = left_half [1]\n",
    "\n",
    "            l+= 1\n",
    "            m+= 1\n",
    "\n",
    "        while r < len(right_half):\n",
    "            alist[m] = right_half[r]\n",
    "            l+= 1\n",
    "            m+= 1\n",
    "            \n",
    "        print(f\"Merged {alist}\")\n",
    "\n",
    "    mergeSort(blist)\n",
    "print(blist)\n",
    "\n",
    "\n",
    "\n",
    "\n",
    "\n",
    "\n",
    "\n",
    "\n",
    "\n",
    "\n"
   ]
  },
  {
   "cell_type": "markdown",
   "metadata": {},
   "source": [
    "# Binary Search\n",
    "\n",
    "The Binary Search algorithm works by finding the number in the middle of a given array and comparing it to the target. Given that the array is sorted\n",
    "\n",
    "* The worst case run time for this algorithm is `O(log(n))`"
   ]
  },
  {
   "cell_type": "code",
   "execution_count": 46,
   "metadata": {},
   "outputs": [
    {
     "name": "stdout",
     "output_type": "stream",
     "text": [
      "TARGET NOT IN LIST\n"
     ]
    }
   ],
   "source": [
    "\n",
    "\n",
    "def binarySearch(alist,target):\n",
    "\n",
    "    left = 0\n",
    "    right = len(alist) -1\n",
    "    while left <= right:\n",
    "        middle = (left + right) // 2\n",
    "        potential = alist[middle]\n",
    "        if target ==potential:\n",
    "            return \"WINNER WINNER CHICKEN DINNER found target at index {middle}\"\n",
    "        elif target < potential:\n",
    "            right = middle -1 \n",
    "        elif target > potential:\n",
    "            left = middle +1\n",
    "\n",
    "    return \"TARGET NOT IN LIST\"\n",
    "\n",
    "alist = [1,2,3,4,5,6,7,8,9,10]\n",
    "print(binarySearch(alist, 11))\n",
    "\n",
    "\n"
   ]
  },
  {
   "cell_type": "markdown",
   "metadata": {},
   "source": [
    "# Exercises"
   ]
  },
  {
   "cell_type": "markdown",
   "metadata": {},
   "source": [
    "### Exercise #1 <br>\n",
    "<p>Reverse the list below in-place using an in-place algorithm.<br>For extra credit: Reverse the strings at the same time.</p>"
   ]
  },
  {
   "cell_type": "code",
   "execution_count": 24,
   "metadata": {},
   "outputs": [
    {
     "name": "stdout",
     "output_type": "stream",
     "text": [
      "['.', 'sentence', 'a', 'is', 'this']\n"
     ]
    }
   ],
   "source": [
    "words = ['this' , 'is', 'a', 'sentence', '.']\n",
    "\n",
    "# your function should work on any list meaning any list pass it should reverse list\n",
    "\n",
    "\n",
    "def reverse_list(lst):\n",
    "    start = 0\n",
    "    end = len(lst) -1\n",
    "    while start<end:\n",
    "        lst[start],lst[end] = lst[end],lst[start]\n",
    "        start +=1\n",
    "        end -=1\n",
    "    return lst\n",
    "\n",
    "reversed_list = reverse_list(words)\n",
    "print(reversed_list)\n"
   ]
  },
  {
   "cell_type": "markdown",
   "metadata": {},
   "source": [
    "### Exercise #2 <br>\n",
    "<p>Create a function that counts how many distinct words are in the string below, then outputs a dictionary with the words as the key and the value as the amount of times that word appears in the string.<br>Should output:<br>{'a': 5,<br>\n",
    " 'abstract': 1,<br>\n",
    " 'an': 3,<br>\n",
    " 'array': 2, ... etc...</p>"
   ]
  },
  {
   "cell_type": "code",
   "execution_count": 18,
   "metadata": {},
   "outputs": [
    {
     "name": "stdout",
     "output_type": "stream",
     "text": [
      "{'In': 1, 'computing,': 1, 'a': 4, 'hash': 4, 'table': 2, 'map': 2, 'is': 1, 'data': 2, 'structure': 2, 'which': 2, 'implements': 1, 'an': 3, 'associative': 1, 'array': 2, 'abstract': 1, 'type,': 1, 'that': 1, 'can': 2, 'keys': 1, 'to': 2, 'values.': 1, 'A': 1, 'uses': 1, 'function': 1, 'compute': 1, 'index': 1, 'into': 1, 'of': 1, 'buckets': 1, 'or': 1, 'slots': 1, 'from': 1, 'the': 1, 'desired': 1, 'value': 1, 'be': 1, 'found': 1}\n"
     ]
    }
   ],
   "source": [
    "a_text = 'In computing, a hash table hash map is a data structure which implements an associative array abstract data type, a structure that can map keys to values. A hash table uses a hash function to compute an index into an array of buckets or slots from which the desired value can be found'\n",
    "\n",
    "def count_words(string):\n",
    "    words_list = string.split()\n",
    "    word_count = {}\n",
    "\n",
    "    for word in words_list:\n",
    "        if word in word_count:\n",
    "            word_count[word] += 1\n",
    "        else:\n",
    "            word_count[word] = 1\n",
    "            \n",
    "    return word_count \n",
    "        \n",
    "result =count_words(a_text)\n",
    "print(result)\n",
    "    \n",
    "        \n",
    "\n",
    "\n",
    " \n",
    "\n",
    "     "
   ]
  },
  {
   "cell_type": "markdown",
   "metadata": {},
   "source": [
    "## Exercise #3\n",
    "\n",
    "Write a program to implement a Linear Search Algorithm. Also in a comment, write the Time Complexity of the following algorithm.\n",
    "\n",
    "#### Hint: Linear Searching will require searching a list for a given number. "
   ]
  },
  {
   "cell_type": "code",
   "execution_count": 14,
   "metadata": {},
   "outputs": [],
   "source": [
    "def linear_search(arr, target):\n",
    "    for i in range (len(arr)):\n",
    "        if arr [i] == target:\n",
    "            return i\n",
    "        return -1\n",
    "    \n",
    "    # comment: the time complexity of the linear search algorhythm is O(n). The time required grows linear depending on the size.   \n",
    "    \n"
   ]
  }
 ],
 "metadata": {
  "kernelspec": {
   "display_name": "Python 3.10.8 64-bit (microsoft store)",
   "language": "python",
   "name": "python3"
  },
  "language_info": {
   "codemirror_mode": {
    "name": "ipython",
    "version": 3
   },
   "file_extension": ".py",
   "mimetype": "text/x-python",
   "name": "python",
   "nbconvert_exporter": "python",
   "pygments_lexer": "ipython3",
   "version": "3.11.5"
  },
  "vscode": {
   "interpreter": {
    "hash": "aa82987a71ca0339a52998cd22613b0c002bda8349fa32a0cb67ceec3936a2bf"
   }
  }
 },
 "nbformat": 4,
 "nbformat_minor": 2
}
